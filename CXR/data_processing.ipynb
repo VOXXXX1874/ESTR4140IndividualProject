{
 "cells": [
  {
   "cell_type": "code",
   "execution_count": 10,
   "metadata": {},
   "outputs": [],
   "source": [
    "import csv\n",
    "import re\n",
    "import shutil"
   ]
  },
  {
   "cell_type": "code",
   "execution_count": 11,
   "metadata": {},
   "outputs": [],
   "source": [
    "csv_file_path = 'Data_Entry_2017_v2020.csv'\n",
    "data = {}\n",
    "with open(csv_file_path,mode='r',newline='') as csv_file:\n",
    "    csv_reader = csv.DictReader(csv_file)\n",
    "    headers = csv_reader.fieldnames\n",
    "    for header in headers:\n",
    "        data[header] = []\n",
    "    for row in csv_reader:\n",
    "        for header in headers:\n",
    "            data[header].append(row[header])\n",
    "\n",
    "image_index = data['Image Index']\n",
    "finding_labels = data['Finding Labels']\n",
    "patient_age = data['Patient Age']    "
   ]
  },
  {
   "cell_type": "code",
   "execution_count": 13,
   "metadata": {},
   "outputs": [
    {
     "name": "stdout",
     "output_type": "stream",
     "text": [
      "total effusion is: 13317\n",
      "total normal is: 60361\n",
      "avg age of effusion is: 49.523466246151536\n",
      "avg age of normal is: 45.48082371067411\n"
     ]
    }
   ],
   "source": [
    "# Warning: This block can only be executed when the images file is whole\n",
    "count_effusion = 0\n",
    "count_normal = 0\n",
    "effusion_pattern = re.compile(r'Effusion')\n",
    "normal_pattern = re.compile(r'No Finding')\n",
    "avg_age_effusion = 0\n",
    "avg_age_normal = 0\n",
    "for idx,label,age in zip(image_index,finding_labels,patient_age):\n",
    "    #print(f\"Image Index:{idx}, Finding Labels:{label}, Patient Age:{age}\")\n",
    "    effusion_matches = effusion_pattern.findall(label)\n",
    "    if len(effusion_matches) >= 1:\n",
    "        count_effusion+=1\n",
    "        avg_age_effusion+=int(age)\n",
    "        src_path = './images/' + idx\n",
    "        dst_path = './task_images/1/' + idx\n",
    "        shutil.move(src_path,dst_path)\n",
    "    \n",
    "    normal_matches = normal_pattern.findall(label)\n",
    "    if len(normal_matches) >= 1:\n",
    "        count_normal+=1\n",
    "        avg_age_normal+=int(age)\n",
    "        src_path = './images/' + idx\n",
    "        dst_path = './task_images/0/' + idx\n",
    "        shutil.move(src_path,dst_path)\n",
    "\n",
    "print(\"total effusion is:\",count_effusion)\n",
    "print(\"total normal is:\", count_normal)\n",
    "print(\"avg age of effusion is:\",avg_age_effusion/count_effusion)\n",
    "print(\"avg age of normal is:\",avg_age_normal/count_normal)"
   ]
  }
 ],
 "metadata": {
  "kernelspec": {
   "display_name": "Python 3",
   "language": "python",
   "name": "python3"
  },
  "language_info": {
   "codemirror_mode": {
    "name": "ipython",
    "version": 3
   },
   "file_extension": ".py",
   "mimetype": "text/x-python",
   "name": "python",
   "nbconvert_exporter": "python",
   "pygments_lexer": "ipython3",
   "version": "3.10.8"
  }
 },
 "nbformat": 4,
 "nbformat_minor": 2
}

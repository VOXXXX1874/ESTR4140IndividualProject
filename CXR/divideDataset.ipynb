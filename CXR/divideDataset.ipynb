{
 "cells": [
  {
   "cell_type": "code",
   "execution_count": 1,
   "metadata": {},
   "outputs": [],
   "source": [
    "import os\n",
    "import random\n",
    "import shutil\n",
    "random.seed(42)"
   ]
  },
  {
   "cell_type": "code",
   "execution_count": 2,
   "metadata": {},
   "outputs": [
    {
     "name": "stdout",
     "output_type": "stream",
     "text": [
      "done!\n"
     ]
    }
   ],
   "source": [
    "data_dir = './task_images_downsampled/0'\n",
    "test_dir = './task_images_downsampled/test/0'\n",
    "all_images = os.listdir(data_dir)\n",
    "test_images = random.sample(all_images,10000)\n",
    "for image in test_images:\n",
    "    data_path = os.path.join(data_dir,image)\n",
    "    test_path = os.path.join(test_dir,image)\n",
    "    shutil.move(data_path,test_path)\n",
    "print('done!')"
   ]
  },
  {
   "cell_type": "code",
   "execution_count": 3,
   "metadata": {},
   "outputs": [
    {
     "name": "stdout",
     "output_type": "stream",
     "text": [
      "done!\n"
     ]
    }
   ],
   "source": [
    "data_dir = './task_images_downsampled/1'\n",
    "test_dir = './task_images_downsampled/test/1'\n",
    "all_images = os.listdir(data_dir)\n",
    "test_images = random.sample(all_images,2000)\n",
    "for image in test_images:\n",
    "    data_path = os.path.join(data_dir,image)\n",
    "    test_path = os.path.join(test_dir,image)\n",
    "    shutil.move(data_path,test_path)\n",
    "print('done!')"
   ]
  }
 ],
 "metadata": {
  "kernelspec": {
   "display_name": "Python 3",
   "language": "python",
   "name": "python3"
  },
  "language_info": {
   "codemirror_mode": {
    "name": "ipython",
    "version": 3
   },
   "file_extension": ".py",
   "mimetype": "text/x-python",
   "name": "python",
   "nbconvert_exporter": "python",
   "pygments_lexer": "ipython3",
   "version": "3.10.8"
  }
 },
 "nbformat": 4,
 "nbformat_minor": 2
}

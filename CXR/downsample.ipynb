{
 "cells": [
  {
   "cell_type": "code",
   "execution_count": 3,
   "metadata": {},
   "outputs": [],
   "source": [
    "import os\n",
    "from PIL import Image\n",
    "from tqdm import tqdm"
   ]
  },
  {
   "cell_type": "code",
   "execution_count": 4,
   "metadata": {},
   "outputs": [
    {
     "name": "stderr",
     "output_type": "stream",
     "text": [
      "100%|██████████| 60361/60361 [18:12<00:00, 55.24it/s]"
     ]
    },
    {
     "name": "stdout",
     "output_type": "stream",
     "text": [
      "done!\n"
     ]
    },
    {
     "name": "stderr",
     "output_type": "stream",
     "text": [
      "\n"
     ]
    }
   ],
   "source": [
    "source_path = './task_images/0'\n",
    "destination_path = './task_images_downsampled/0'\n",
    "\n",
    "for filename in tqdm(os.listdir(source_path)):\n",
    "    if filename.endswith('.png'):\n",
    "        source_file_path = os.path.join(source_path,filename)\n",
    "        destination_file_path = os.path.join(destination_path,filename)\n",
    "        with Image.open(source_file_path) as img:\n",
    "            resized_img = img.resize((224,224))\n",
    "            resized_img.save(destination_file_path,'PNG')\n",
    "print(\"done!\")"
   ]
  },
  {
   "cell_type": "code",
   "execution_count": 5,
   "metadata": {},
   "outputs": [
    {
     "name": "stderr",
     "output_type": "stream",
     "text": [
      "100%|██████████| 13317/13317 [03:54<00:00, 56.80it/s]"
     ]
    },
    {
     "name": "stdout",
     "output_type": "stream",
     "text": [
      "done!\n"
     ]
    },
    {
     "name": "stderr",
     "output_type": "stream",
     "text": [
      "\n"
     ]
    }
   ],
   "source": [
    "source_path = './task_images/1'\n",
    "destination_path = './task_images_downsampled/1'\n",
    "\n",
    "for filename in tqdm(os.listdir(source_path)):\n",
    "    if filename.endswith('.png'):\n",
    "        source_file_path = os.path.join(source_path,filename)\n",
    "        destination_file_path = os.path.join(destination_path,filename)\n",
    "        with Image.open(source_file_path) as img:\n",
    "            resized_img = img.resize((224,224))\n",
    "            resized_img.save(destination_file_path,'PNG')\n",
    "print(\"done!\")"
   ]
  }
 ],
 "metadata": {
  "kernelspec": {
   "display_name": "Python 3",
   "language": "python",
   "name": "python3"
  },
  "language_info": {
   "codemirror_mode": {
    "name": "ipython",
    "version": 3
   },
   "file_extension": ".py",
   "mimetype": "text/x-python",
   "name": "python",
   "nbconvert_exporter": "python",
   "pygments_lexer": "ipython3",
   "version": "3.10.8"
  }
 },
 "nbformat": 4,
 "nbformat_minor": 2
}

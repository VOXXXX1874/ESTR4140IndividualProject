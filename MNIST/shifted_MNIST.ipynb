{
 "cells": [
  {
   "cell_type": "code",
   "execution_count": 1,
   "metadata": {},
   "outputs": [],
   "source": [
    "import numpy as np \n",
    "import torch\n",
    "import torchvision\n",
    "from torch.utils.data import DataLoader\n",
    "from torchvision import datasets\n",
    "import torchvision.transforms as transforms\n",
    "from PIL import Image"
   ]
  },
  {
   "cell_type": "code",
   "execution_count": 2,
   "metadata": {},
   "outputs": [],
   "source": [
    "original_data = datasets.MNIST(\n",
    "    root=\"data\",\n",
    "    train=True,\n",
    "    download=True,\n",
    ")"
   ]
  },
  {
   "cell_type": "code",
   "execution_count": 3,
   "metadata": {},
   "outputs": [],
   "source": [
    "\n",
    "i0=0\n",
    "i1=0\n",
    "left_padding = 36\n",
    "top_padding = 36\n",
    "W = 28\n",
    "H = 28\n",
    "nW = 64\n",
    "nH = 64\n",
    "for i in range(len(original_data)):\n",
    "    padded_image = Image.new('RGB', (nW, nH), color=(0, 0, 0))\n",
    "    if original_data[i][1] == 0:\n",
    "        padded_image.paste(original_data[i][0], (left_padding, top_padding))\n",
    "        padded_image = padded_image.resize((224,224))\n",
    "        padded_image.save('./mydata/train/0/'+str(i0)+'.png')\n",
    "        i0+=1\n",
    "    if original_data[i][1] == 1:\n",
    "        padded_image.paste(original_data[i][0], (0, 0))\n",
    "        padded_image = padded_image.resize((224,224))\n",
    "        padded_image.save('./mydata/train/1/'+str(i1)+'.png')\n",
    "        i1+=1"
   ]
  },
  {
   "cell_type": "code",
   "execution_count": 9,
   "metadata": {},
   "outputs": [],
   "source": [
    "test_data = datasets.MNIST(\n",
    "    root=\"data\",\n",
    "    train=False,\n",
    "    download=True,\n",
    ")"
   ]
  },
  {
   "cell_type": "code",
   "execution_count": 21,
   "metadata": {},
   "outputs": [],
   "source": [
    "\n",
    "i0=0\n",
    "i1=0\n",
    "for i in range(len(test_data)):\n",
    "    padded_image = Image.new('RGB', (nW, nH), color=(0, 0, 0))\n",
    "    if original_data[i][1] == 1:\n",
    "        padded_image.paste(original_data[i][0], (left_padding, top_padding))\n",
    "        padded_image = padded_image.resize((224,224))\n",
    "        padded_image.save('./mydata/test/1/'+str(i1)+'.png')\n",
    "        i1+=1\n",
    "    if original_data[i][1] == 0:\n",
    "        padded_image.paste(original_data[i][0], (0, 0))\n",
    "        padded_image = padded_image.resize((224,224))\n",
    "        padded_image.save('./mydata/test/0/'+str(i0)+'.png')\n",
    "        i0+=1"
   ]
  },
  {
   "cell_type": "code",
   "execution_count": 15,
   "metadata": {},
   "outputs": [],
   "source": [
    "left_padding = 36\n",
    "top_padding = 36\n",
    "right_padding = 36\n",
    "bottom_padding = 36\n",
    "W = 28\n",
    "H = 28\n",
    "nW = 64\n",
    "nH = 64\n",
    "padded_image = Image.new('RGB', (nW, nH), color=(0, 0, 0))\n",
    "test_image = original_data[0][0]\n",
    "padded_image.paste(test_image, (0, 0))\n",
    "padded_image.save('output_padded.jpg')"
   ]
  },
  {
   "cell_type": "code",
   "execution_count": 7,
   "metadata": {},
   "outputs": [],
   "source": [
    "i0=0\n",
    "i1=0\n",
    "for i in range(len(original_data)):\n",
    "    padded_image = Image.new('RGB', (nW, nH), color=(0, 0, 0))\n",
    "    if original_data[i][1] == 0:\n",
    "        padded_image.paste(original_data[i][0], (left_padding//2, top_padding//2))\n",
    "        padded_image = padded_image.resize((224,224))\n",
    "        padded_image.save('./rgb_MNIST/train/0/'+str(i0)+'.png')\n",
    "        i0+=1\n",
    "    if original_data[i][1] == 1:\n",
    "        padded_image.paste(original_data[i][0], (left_padding//2, top_padding//2))\n",
    "        padded_image = padded_image.resize((224,224))\n",
    "        padded_image.save('./rgb_MNIST/train/1/'+str(i1)+'.png')\n",
    "        i1+=1"
   ]
  },
  {
   "cell_type": "code",
   "execution_count": 10,
   "metadata": {},
   "outputs": [],
   "source": [
    "i0=0\n",
    "i1=0\n",
    "for i in range(len(test_data)):\n",
    "    padded_image = Image.new('RGB', (nW, nH), color=(0, 0, 0))\n",
    "    if original_data[i][1] == 1:\n",
    "        padded_image.paste(original_data[i][0], (left_padding//2, top_padding//2))\n",
    "        padded_image = padded_image.resize((224,224))\n",
    "        padded_image.save('./rgb_MNIST/test/1/'+str(i1)+'.png')\n",
    "        i1+=1\n",
    "    if original_data[i][1] == 0:\n",
    "        padded_image.paste(original_data[i][0], (left_padding//2, top_padding//2))\n",
    "        padded_image = padded_image.resize((224,224))\n",
    "        padded_image.save('./rgb_MNIST/test/0/'+str(i0)+'.png')\n",
    "        i0+=1"
   ]
  }
 ],
 "metadata": {
  "kernelspec": {
   "display_name": "Python 3",
   "language": "python",
   "name": "python3"
  },
  "language_info": {
   "codemirror_mode": {
    "name": "ipython",
    "version": 3
   },
   "file_extension": ".py",
   "mimetype": "text/x-python",
   "name": "python",
   "nbconvert_exporter": "python",
   "pygments_lexer": "ipython3",
   "version": "3.10.8"
  }
 },
 "nbformat": 4,
 "nbformat_minor": 2
}
